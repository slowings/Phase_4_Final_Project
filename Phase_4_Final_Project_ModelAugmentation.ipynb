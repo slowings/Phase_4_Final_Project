{
  "nbformat": 4,
  "nbformat_minor": 0,
  "metadata": {
    "colab": {
      "provenance": [],
      "gpuType": "V100",
      "machine_shape": "hm",
      "authorship_tag": "ABX9TyOsIK0+tqikY6R6zvwCvKoV",
      "include_colab_link": true
    },
    "kernelspec": {
      "name": "python3",
      "display_name": "Python 3"
    },
    "language_info": {
      "name": "python"
    },
    "accelerator": "GPU"
  },
  "cells": [
    {
      "cell_type": "markdown",
      "metadata": {
        "id": "view-in-github",
        "colab_type": "text"
      },
      "source": [
        "<a href=\"https://colab.research.google.com/github/slowings/Phase_4_Final_Project/blob/main/Phase_4_Final_Project_ModelAugmentation.ipynb\" target=\"_parent\"><img src=\"https://colab.research.google.com/assets/colab-badge.svg\" alt=\"Open In Colab\"/></a>"
      ]
    },
    {
      "cell_type": "code",
      "source": [
        "import os, shutil\n",
        "import numpy as np\n",
        "import cv2\n",
        "import seaborn as sns\n",
        "import pandas as pd\n",
        "import matplotlib.pyplot as plt\n",
        "from google.colab import drive\n"
      ],
      "metadata": {
        "id": "WVh_VO1Yek0F"
      },
      "execution_count": 1,
      "outputs": []
    },
    {
      "cell_type": "markdown",
      "source": [
        "## Data Visualization and Preprocessing\n",
        "In this section we'll take a preliminary look at our data to get a feel for what we're working with.  We'll examine the numbers of normal and infected patients in the train, test and val sets to check for class imbalances, plot a random sample of xrays from our train set,  and determine our course of action for preprocessing.  This will likely involve resizing our data, binary encoding our target variable, and augmenting our data.\n",
        "\n",
        "Let's begin by taking a look at the contents of our data directory"
      ],
      "metadata": {
        "id": "xUG-6cvN305k"
      }
    },
    {
      "cell_type": "code",
      "source": [
        "# Mount Google Drive\n",
        "drive.mount('/gdrive', force_remount=True)"
      ],
      "metadata": {
        "colab": {
          "base_uri": "https://localhost:8080/"
        },
        "id": "zAPgnAVVsJy8",
        "outputId": "e1395b84-f229-4af9-b89c-905d9e4be602"
      },
      "execution_count": 2,
      "outputs": [
        {
          "output_type": "stream",
          "name": "stdout",
          "text": [
            "Mounted at /gdrive\n"
          ]
        }
      ]
    },
    {
      "cell_type": "code",
      "source": [
        "# Get current directory\n",
        "print(os.getcwd())\n",
        "\n",
        "# Get contents of the directory\n",
        "print(os.listdir())"
      ],
      "metadata": {
        "id": "Ghs8xm_zuMWd",
        "colab": {
          "base_uri": "https://localhost:8080/"
        },
        "outputId": "d3aa10b5-e9ab-48e9-b2eb-3cb360a4191b"
      },
      "execution_count": 3,
      "outputs": [
        {
          "output_type": "stream",
          "name": "stdout",
          "text": [
            "/content\n",
            "['.config', 'sample_data']\n"
          ]
        }
      ]
    },
    {
      "cell_type": "code",
      "source": [
        "# Set path to xrays\n",
        "drive_path = '/gdrive/MyDrive/Data/archive.zip'\n"
      ],
      "metadata": {
        "id": "-EtsdOdMLFpx"
      },
      "execution_count": 4,
      "outputs": []
    },
    {
      "cell_type": "code",
      "source": [
        "# Navigate to xrays\n",
        "!cp '{drive_path}' ."
      ],
      "metadata": {
        "id": "AgRyA_Xm1_Bi"
      },
      "execution_count": 5,
      "outputs": []
    },
    {
      "cell_type": "code",
      "source": [
        "# Get current directory/confirm correct path\n",
        "print(os.getcwd())\n",
        "\n",
        "# Get contents of the directory\n",
        "print(os.listdir())"
      ],
      "metadata": {
        "colab": {
          "base_uri": "https://localhost:8080/"
        },
        "id": "DasrgsS8QaIF",
        "outputId": "047b8f60-4f4d-4148-e2f4-593a4fe1c5d4"
      },
      "execution_count": null,
      "outputs": [
        {
          "output_type": "stream",
          "name": "stdout",
          "text": [
            "/content\n",
            "['.config', 'archive.zip', 'sample_data']\n"
          ]
        }
      ]
    },
    {
      "cell_type": "code",
      "source": [
        "# Unzip images\n",
        "!unzip -q 'archive.zip'"
      ],
      "metadata": {
        "id": "9Y1BMt93Bewu"
      },
      "execution_count": 6,
      "outputs": []
    },
    {
      "cell_type": "markdown",
      "source": [
        "### Check distribution\n",
        "Now that we've confirmed the file path and unzipped our data, let's take a moment to create our paths to our data, and then double check the distribution of 'normal' vs. 'pneumonia' xrays in the train, test, and val directories to ensure all our files loaded properly"
      ],
      "metadata": {
        "id": "yCNpAUDROmdM"
      }
    },
    {
      "cell_type": "code",
      "source": [
        "# Define paths to train, test and val sets\n",
        "train_folder = '/content/chest_xray/train'\n",
        "train_pneu = '/content/chest_xray/train/PNEUMONIA'\n",
        "train_norm = '/content/chest_xray/train/NORMAL'\n",
        "\n",
        "test_folder = '/content/chest_xray/test'\n",
        "test_pneu = '/content/chest_xray/test/PNEUMONIA'\n",
        "test_norm = '/content/chest_xray/test/NORMAL'\n",
        "\n",
        "val_folder = '/content/chest_xray/val'\n",
        "val_pneu = '/content/chest_xray/val/PNEUMONIA'\n",
        "val_norm = '/content/chest_xray/val/NORMAL'\n",
        "\n",
        "# Print distribution\n",
        "print('Train PNEUMONIA= ', len(os.listdir(train_pneu)))\n",
        "print('Train NORMAL= ', len(os.listdir(train_norm)))\n",
        "\n",
        "print('Test PNEUMONIA= ', len(os.listdir(test_pneu)))\n",
        "print('Test NORMAL= ', len(os.listdir(test_norm)))\n",
        "\n",
        "print('Val PNEUMONIA= ', len(os.listdir(val_pneu)))\n",
        "print('Val NORMAL= ', len(os.listdir(val_norm)))\n"
      ],
      "metadata": {
        "colab": {
          "base_uri": "https://localhost:8080/"
        },
        "id": "-BQLYlEw4AvB",
        "outputId": "d1fa0cc8-d32c-47e1-91ad-6ddd20a0ac27"
      },
      "execution_count": 7,
      "outputs": [
        {
          "output_type": "stream",
          "name": "stdout",
          "text": [
            "Train PNEUMONIA=  3875\n",
            "Train NORMAL=  1341\n",
            "Test PNEUMONIA=  390\n",
            "Test NORMAL=  234\n",
            "Val PNEUMONIA=  8\n",
            "Val NORMAL=  8\n"
          ]
        }
      ]
    },
    {
      "cell_type": "code",
      "source": [
        "# Confirm varied image size by taking samples and printing shape\n",
        "image_path = '/content/chest_xray/train/PNEUMONIA'\n",
        "\n",
        "# Get the list of images in the dataset\n",
        "image_files = os.listdir(image_path)\n",
        "\n",
        "# Get the first image file\n",
        "first_image_file = image_files[0]\n",
        "\n",
        "# Load the image using OpenCV\n",
        "image = cv2.imread(os.path.join(image_path, first_image_file))\n",
        "\n",
        "# Get the dimensions of the image\n",
        "height, width, channels = image.shape\n",
        "\n",
        "print(\"Image Width:\", width)\n",
        "print(\"Image Height:\", height)\n",
        "print(\"Number of Channels:\", channels)"
      ],
      "metadata": {
        "id": "8nMdeCO44yEl",
        "colab": {
          "base_uri": "https://localhost:8080/"
        },
        "outputId": "43f35a7b-f442-4fb0-ce18-e342c355f933"
      },
      "execution_count": null,
      "outputs": [
        {
          "output_type": "stream",
          "name": "stdout",
          "text": [
            "Image Width: 668\n",
            "Image Height: 375\n",
            "Number of Channels: 3\n"
          ]
        }
      ]
    },
    {
      "cell_type": "markdown",
      "source": [
        "### Preprocessing"
      ],
      "metadata": {
        "id": "S4jW-IRTq5MK"
      }
    },
    {
      "cell_type": "code",
      "source": [
        "# Import Statements\n",
        "\n",
        "import time\n",
        "import scipy\n",
        "from PIL import Image\n",
        "import tensorflow as tf\n",
        "from tensorflow import keras\n",
        "from tensorflow.keras.preprocessing.image import ImageDataGenerator, array_to_img, img_to_array, load_img\n",
        "from tensorflow.keras import models, layers, optimizers, regularizers, activations\n",
        "from tensorflow.keras.layers import Conv2D, MaxPooling2D, Flatten, Dense, Dropout, BatchNormalization\n",
        "from tensorflow.keras.callbacks import ModelCheckpoint, EarlyStopping, ReduceLROnPlateau\n",
        "from tensorflow.keras.applications import VGG16, VGG19\n",
        "\n",
        "from sklearn.metrics import confusion_matrix, classification_report\n",
        "from sklearn.utils.class_weight import compute_class_weight\n",
        "from sklearn.utils import class_weight"
      ],
      "metadata": {
        "id": "3XwaXPJPq55f"
      },
      "execution_count": 8,
      "outputs": []
    },
    {
      "cell_type": "markdown",
      "source": [
        "### Generate Augmented Tensors\n",
        "Below we'll create our dataframes of our augmented, rescaled and resized images, begining with defining the architecture of our augemnted ImageGenerator, which, just as before,  we'll use to read in our data in batches, normalizing pixel output, scaling images, converting to greyscale, and setting to the binary class mode for our target variable, y."
      ],
      "metadata": {
        "id": "FO3kkXPTrD6u"
      }
    },
    {
      "cell_type": "code",
      "source": [
        "# Create Image Data Generator for Train Set\n",
        "image_gen = ImageDataGenerator(\n",
        "        featurewise_center=False,  # set input mean to 0 over the dataset\n",
        "        samplewise_center=False,  # set each sample mean to 0\n",
        "        featurewise_std_normalization=False,  # divide inputs by std of the dataset\n",
        "        samplewise_std_normalization=False,  # divide each input by its std\n",
        "        zca_whitening=False,  # apply ZCA whitening\n",
        "        rotation_range = 30,  # randomly rotate images in the range (degrees, 0 to 180)\n",
        "        zoom_range = 0.2, # Randomly zoom image\n",
        "        width_shift_range=0.1,  # randomly shift images horizontally (fraction of total width)\n",
        "        height_shift_range=0.1,  # randomly shift images vertically (fraction of total height)\n",
        "        horizontal_flip = True,  # randomly flip images\n",
        "        vertical_flip=False)  # randomly flip images\n",
        "\n",
        "# Create Image Data Generator for Test/Validation Set\n",
        "test_data_gen = ImageDataGenerator(rescale = 1./255)\n"
      ],
      "metadata": {
        "id": "gzki-pzH1VIB"
      },
      "execution_count": 9,
      "outputs": []
    },
    {
      "cell_type": "code",
      "source": [
        "# get all the data in the \"train\" directory (5216 images), rescale and reshape them\n",
        "train_generator = image_gen.flow_from_directory(\n",
        "        train_folder,\n",
        "        target_size=(150, 150), batch_size=5216,\n",
        "        class_mode='binary',\n",
        "        color_mode = 'grayscale',\n",
        "        seed=18)\n",
        "\n",
        "# get all the data in the \"test\" directory (624 images), rescale and reshape them\n",
        "test_generator = test_data_gen.flow_from_directory(\n",
        "        test_folder,\n",
        "        target_size=(150, 150), batch_size = 624,\n",
        "        class_mode='binary',\n",
        "        shuffle=False,\n",
        "        color_mode = 'grayscale',\n",
        "        seed=18)\n",
        "\n",
        "# get all the data in the \"split/validation\" directory (16 images), rescale and reshape them\n",
        "val_generator = test_data_gen.flow_from_directory(\n",
        "        val_folder,\n",
        "        target_size=(150, 150), batch_size = 16,\n",
        "        class_mode='binary',\n",
        "        color_mode = 'grayscale',\n",
        "        seed=18)"
      ],
      "metadata": {
        "colab": {
          "base_uri": "https://localhost:8080/"
        },
        "id": "LtvKtPuUrEqP",
        "outputId": "c948a775-e4ae-498b-b653-195a7f79de82"
      },
      "execution_count": 10,
      "outputs": [
        {
          "output_type": "stream",
          "name": "stdout",
          "text": [
            "Found 5216 images belonging to 2 classes.\n",
            "Found 624 images belonging to 2 classes.\n",
            "Found 16 images belonging to 2 classes.\n"
          ]
        }
      ]
    },
    {
      "cell_type": "code",
      "source": [
        "# Batch feed and join images/labels to create data sets\n",
        "X_train, y_train = next(train_generator)\n",
        "X_test, y_test = next(test_generator)\n",
        "X_val, y_val = next(val_generator)"
      ],
      "metadata": {
        "id": "BNKsbbiwrL59"
      },
      "execution_count": 11,
      "outputs": []
    },
    {
      "cell_type": "code",
      "source": [
        "# Explore dataset again to ensure all files are there and in desired shape\n",
        "print (\"Train_images shape: \" + str(X_train.shape))\n",
        "print (\"Train_labels shape: \" + str(y_train.shape))\n",
        "print (\"Test_images shape: \" + str(X_test.shape))\n",
        "print (\"Test_labels shape: \" + str(y_test.shape))\n",
        "print (\"Val_images shape: \" + str(X_val.shape))\n",
        "print (\"Val_labels shape: \" + str(y_val.shape))"
      ],
      "metadata": {
        "colab": {
          "base_uri": "https://localhost:8080/"
        },
        "id": "I8alzd70rM7W",
        "outputId": "19c331c6-040f-44eb-afa9-fdb0bbb69afc"
      },
      "execution_count": 12,
      "outputs": [
        {
          "output_type": "stream",
          "name": "stdout",
          "text": [
            "Train_images shape: (5216, 150, 150, 1)\n",
            "Train_labels shape: (5216,)\n",
            "Test_images shape: (624, 150, 150, 1)\n",
            "Test_labels shape: (624,)\n",
            "Val_images shape: (16, 150, 150, 1)\n",
            "Val_labels shape: (16,)\n"
          ]
        }
      ]
    },
    {
      "cell_type": "markdown",
      "source": [
        "## Final CNN: 6th model\n",
        "Convolutional Neural networks, or CNN's were inspired by the workings of the visual cortex in human and animal brains, in which images are processed by simple cells which sample small areas of the visual field and register linear elements, and complex cells, with larger receptive feilds that take in position of those edges relative to the edges of the feild. Similarly, a CNN identifies linear elements in images through convolution (mapping the highest values of a pixel in a given sector of our image) and pooling (shrinking an image to reduce its pixel density). Because of this, they perform exceptionally well with image classification, and are an excellent tool for medical analysis.\n",
        "\n",
        "In the next section we'll start by building a  CNN to classify our adapted xrays, in the  final iteration of our model.\n"
      ],
      "metadata": {
        "id": "K8MsYwP9EYJJ"
      }
    },
    {
      "cell_type": "code",
      "source": [
        "from keras.layers import Dense, Conv2D , MaxPool2D , Flatten , Dropout , BatchNormalization"
      ],
      "metadata": {
        "id": "Lj2DoF-_H8w5"
      },
      "execution_count": 14,
      "outputs": []
    },
    {
      "cell_type": "code",
      "source": [
        "model = models.Sequential()\n",
        "model.add(Conv2D(32 , (3,3) , strides = 1 , padding = 'same' , activation = 'relu' , input_shape = (150,150,1)))\n",
        "model.add(BatchNormalization())\n",
        "model.add(MaxPooling2D((2,2) , strides = 2 , padding = 'same'))\n",
        "model.add(Conv2D(64 , (3,3) , strides = 1 , padding = 'same' , activation = 'relu'))\n",
        "model.add(Dropout(0.1))\n",
        "model.add(BatchNormalization())\n",
        "model.add(MaxPooling2D((2,2) , strides = 2 , padding = 'same'))\n",
        "model.add(Conv2D(64 , (3,3) , strides = 1 , padding = 'same' , activation = 'relu'))\n",
        "model.add(BatchNormalization())\n",
        "model.add(MaxPooling2D((2,2) , strides = 2 , padding = 'same'))\n",
        "model.add(Conv2D(128 , (3,3) , strides = 1 , padding = 'same' , activation = 'relu'))\n",
        "model.add(Dropout(0.2))\n",
        "model.add(BatchNormalization())\n",
        "model.add(MaxPooling2D((2,2) , strides = 2 , padding = 'same'))\n",
        "model.add(Conv2D(256 , (3,3) , strides = 1 , padding = 'same' , activation = 'relu'))\n",
        "model.add(Dropout(0.2))\n",
        "model.add(BatchNormalization())\n",
        "model.add(MaxPooling2D((2,2) , strides = 2 , padding = 'same'))\n",
        "model.add(Flatten())\n",
        "model.add(Dense(units = 128 , activation = 'relu'))\n",
        "model.add(Dropout(0.2))\n",
        "model.add(Dense(units = 1 , activation = 'sigmoid'))\n",
        "model.compile(optimizer = \"rmsprop\" , loss = 'binary_crossentropy' , metrics = ['accuracy'])"
      ],
      "metadata": {
        "id": "BMxYwORHEzUC"
      },
      "execution_count": 13,
      "outputs": []
    },
    {
      "cell_type": "code",
      "source": [
        "# inspect the shape of our model before fitting/training it and see how many training parameters we have\n",
        "model.summary()"
      ],
      "metadata": {
        "colab": {
          "base_uri": "https://localhost:8080/"
        },
        "id": "YKVk2fq3L4On",
        "outputId": "fd44d99f-2fa2-4432-d42b-9e7d1c1ca092"
      },
      "execution_count": 15,
      "outputs": [
        {
          "output_type": "stream",
          "name": "stdout",
          "text": [
            "Model: \"sequential\"\n",
            "_________________________________________________________________\n",
            " Layer (type)                Output Shape              Param #   \n",
            "=================================================================\n",
            " conv2d (Conv2D)             (None, 150, 150, 32)      320       \n",
            "                                                                 \n",
            " batch_normalization (Batch  (None, 150, 150, 32)      128       \n",
            " Normalization)                                                  \n",
            "                                                                 \n",
            " max_pooling2d (MaxPooling2  (None, 75, 75, 32)        0         \n",
            " D)                                                              \n",
            "                                                                 \n",
            " conv2d_1 (Conv2D)           (None, 75, 75, 64)        18496     \n",
            "                                                                 \n",
            " dropout (Dropout)           (None, 75, 75, 64)        0         \n",
            "                                                                 \n",
            " batch_normalization_1 (Bat  (None, 75, 75, 64)        256       \n",
            " chNormalization)                                                \n",
            "                                                                 \n",
            " max_pooling2d_1 (MaxPoolin  (None, 38, 38, 64)        0         \n",
            " g2D)                                                            \n",
            "                                                                 \n",
            " conv2d_2 (Conv2D)           (None, 38, 38, 64)        36928     \n",
            "                                                                 \n",
            " batch_normalization_2 (Bat  (None, 38, 38, 64)        256       \n",
            " chNormalization)                                                \n",
            "                                                                 \n",
            " max_pooling2d_2 (MaxPoolin  (None, 19, 19, 64)        0         \n",
            " g2D)                                                            \n",
            "                                                                 \n",
            " conv2d_3 (Conv2D)           (None, 19, 19, 128)       73856     \n",
            "                                                                 \n",
            " dropout_1 (Dropout)         (None, 19, 19, 128)       0         \n",
            "                                                                 \n",
            " batch_normalization_3 (Bat  (None, 19, 19, 128)       512       \n",
            " chNormalization)                                                \n",
            "                                                                 \n",
            " max_pooling2d_3 (MaxPoolin  (None, 10, 10, 128)       0         \n",
            " g2D)                                                            \n",
            "                                                                 \n",
            " conv2d_4 (Conv2D)           (None, 10, 10, 256)       295168    \n",
            "                                                                 \n",
            " dropout_2 (Dropout)         (None, 10, 10, 256)       0         \n",
            "                                                                 \n",
            " batch_normalization_4 (Bat  (None, 10, 10, 256)       1024      \n",
            " chNormalization)                                                \n",
            "                                                                 \n",
            " max_pooling2d_4 (MaxPoolin  (None, 5, 5, 256)         0         \n",
            " g2D)                                                            \n",
            "                                                                 \n",
            " flatten (Flatten)           (None, 6400)              0         \n",
            "                                                                 \n",
            " dense (Dense)               (None, 128)               819328    \n",
            "                                                                 \n",
            " dropout_3 (Dropout)         (None, 128)               0         \n",
            "                                                                 \n",
            " dense_1 (Dense)             (None, 1)                 129       \n",
            "                                                                 \n",
            "=================================================================\n",
            "Total params: 1246401 (4.75 MB)\n",
            "Trainable params: 1245313 (4.75 MB)\n",
            "Non-trainable params: 1088 (4.25 KB)\n",
            "_________________________________________________________________\n"
          ]
        }
      ]
    },
    {
      "cell_type": "code",
      "source": [
        "learning_rate_reduction = ReduceLROnPlateau(monitor='val_accuracy', patience = 2, verbose=1,factor=0.3, min_lr=0.000001)"
      ],
      "metadata": {
        "id": "IRQ6ky1U6s7p"
      },
      "execution_count": 16,
      "outputs": []
    },
    {
      "cell_type": "code",
      "source": [
        "history = model.fit(X_train,\n",
        "                       y_train,\n",
        "                       epochs=20,\n",
        "                       batch_size=20,\n",
        "                       callbacks= [learning_rate_reduction],\n",
        "                       validation_data=(X_val, y_val))"
      ],
      "metadata": {
        "colab": {
          "base_uri": "https://localhost:8080/"
        },
        "id": "HjMPBOnFnnSZ",
        "outputId": "677a52a8-0153-43c4-f82f-c6687540e82e"
      },
      "execution_count": 17,
      "outputs": [
        {
          "output_type": "stream",
          "name": "stdout",
          "text": [
            "Epoch 1/20\n",
            "261/261 [==============================] - 16s 15ms/step - loss: 0.5139 - accuracy: 0.8449 - val_loss: 1.0713 - val_accuracy: 0.5000 - lr: 0.0010\n",
            "Epoch 2/20\n",
            "261/261 [==============================] - 3s 13ms/step - loss: 0.2583 - accuracy: 0.9026 - val_loss: 0.9461 - val_accuracy: 0.5000 - lr: 0.0010\n",
            "Epoch 3/20\n",
            "261/261 [==============================] - ETA: 0s - loss: 0.2121 - accuracy: 0.9220\n",
            "Epoch 3: ReduceLROnPlateau reducing learning rate to 0.0003000000142492354.\n",
            "261/261 [==============================] - 3s 13ms/step - loss: 0.2121 - accuracy: 0.9220 - val_loss: 0.7538 - val_accuracy: 0.5000 - lr: 0.0010\n",
            "Epoch 4/20\n",
            "261/261 [==============================] - 3s 13ms/step - loss: 0.1271 - accuracy: 0.9549 - val_loss: 0.8601 - val_accuracy: 0.5000 - lr: 3.0000e-04\n",
            "Epoch 5/20\n",
            "258/261 [============================>.] - ETA: 0s - loss: 0.0983 - accuracy: 0.9657\n",
            "Epoch 5: ReduceLROnPlateau reducing learning rate to 9.000000427477062e-05.\n",
            "261/261 [==============================] - 3s 13ms/step - loss: 0.0985 - accuracy: 0.9653 - val_loss: 4.1736 - val_accuracy: 0.5000 - lr: 3.0000e-04\n",
            "Epoch 6/20\n",
            "261/261 [==============================] - 3s 13ms/step - loss: 0.0648 - accuracy: 0.9770 - val_loss: 0.7079 - val_accuracy: 0.5000 - lr: 9.0000e-05\n",
            "Epoch 7/20\n",
            "257/261 [============================>.] - ETA: 0s - loss: 0.0553 - accuracy: 0.9800\n",
            "Epoch 7: ReduceLROnPlateau reducing learning rate to 2.700000040931627e-05.\n",
            "261/261 [==============================] - 3s 13ms/step - loss: 0.0554 - accuracy: 0.9799 - val_loss: 0.8676 - val_accuracy: 0.5000 - lr: 9.0000e-05\n",
            "Epoch 8/20\n",
            "261/261 [==============================] - 3s 13ms/step - loss: 0.0394 - accuracy: 0.9843 - val_loss: 0.6924 - val_accuracy: 0.4375 - lr: 2.7000e-05\n",
            "Epoch 9/20\n",
            "257/261 [============================>.] - ETA: 0s - loss: 0.0407 - accuracy: 0.9862\n",
            "Epoch 9: ReduceLROnPlateau reducing learning rate to 8.100000013655517e-06.\n",
            "261/261 [==============================] - 3s 13ms/step - loss: 0.0411 - accuracy: 0.9858 - val_loss: 0.6924 - val_accuracy: 0.4375 - lr: 2.7000e-05\n",
            "Epoch 10/20\n",
            "261/261 [==============================] - 3s 13ms/step - loss: 0.0381 - accuracy: 0.9872 - val_loss: 0.7286 - val_accuracy: 0.5000 - lr: 8.1000e-06\n",
            "Epoch 11/20\n",
            "257/261 [============================>.] - ETA: 0s - loss: 0.0352 - accuracy: 0.9870\n",
            "Epoch 11: ReduceLROnPlateau reducing learning rate to 2.429999949526973e-06.\n",
            "261/261 [==============================] - 3s 13ms/step - loss: 0.0360 - accuracy: 0.9868 - val_loss: 0.6803 - val_accuracy: 0.4375 - lr: 8.1000e-06\n",
            "Epoch 12/20\n",
            "261/261 [==============================] - 3s 13ms/step - loss: 0.0365 - accuracy: 0.9883 - val_loss: 0.6792 - val_accuracy: 0.5625 - lr: 2.4300e-06\n",
            "Epoch 13/20\n",
            "261/261 [==============================] - 3s 13ms/step - loss: 0.0345 - accuracy: 0.9875 - val_loss: 0.6778 - val_accuracy: 0.6250 - lr: 2.4300e-06\n",
            "Epoch 14/20\n",
            "261/261 [==============================] - 3s 13ms/step - loss: 0.0324 - accuracy: 0.9879 - val_loss: 0.6777 - val_accuracy: 0.6250 - lr: 2.4300e-06\n",
            "Epoch 15/20\n",
            "259/261 [============================>.] - ETA: 0s - loss: 0.0326 - accuracy: 0.9873\n",
            "Epoch 15: ReduceLROnPlateau reducing learning rate to 1e-06.\n",
            "261/261 [==============================] - 3s 13ms/step - loss: 0.0327 - accuracy: 0.9872 - val_loss: 0.6760 - val_accuracy: 0.6250 - lr: 2.4300e-06\n",
            "Epoch 16/20\n",
            "261/261 [==============================] - 3s 13ms/step - loss: 0.0380 - accuracy: 0.9883 - val_loss: 0.6760 - val_accuracy: 0.6250 - lr: 1.0000e-06\n",
            "Epoch 17/20\n",
            "261/261 [==============================] - 3s 13ms/step - loss: 0.0335 - accuracy: 0.9885 - val_loss: 0.6772 - val_accuracy: 0.6250 - lr: 1.0000e-06\n",
            "Epoch 18/20\n",
            "261/261 [==============================] - 3s 13ms/step - loss: 0.0331 - accuracy: 0.9873 - val_loss: 0.6761 - val_accuracy: 0.6250 - lr: 1.0000e-06\n",
            "Epoch 19/20\n",
            "261/261 [==============================] - 3s 13ms/step - loss: 0.0306 - accuracy: 0.9883 - val_loss: 0.6765 - val_accuracy: 0.6250 - lr: 1.0000e-06\n",
            "Epoch 20/20\n",
            "261/261 [==============================] - 3s 13ms/step - loss: 0.0305 - accuracy: 0.9906 - val_loss: 0.6773 - val_accuracy: 0.6250 - lr: 1.0000e-06\n"
          ]
        }
      ]
    },
    {
      "cell_type": "markdown",
      "source": [],
      "metadata": {
        "id": "Vw7JC32Ivb7u"
      }
    },
    {
      "cell_type": "code",
      "source": [
        "history_dict = history.history\n",
        "history_dict.keys()"
      ],
      "metadata": {
        "colab": {
          "base_uri": "https://localhost:8080/"
        },
        "id": "lULg3ixL4IBk",
        "outputId": "701b698b-eaf0-4f41-90c4-864e34726709"
      },
      "execution_count": 18,
      "outputs": [
        {
          "output_type": "execute_result",
          "data": {
            "text/plain": [
              "dict_keys(['loss', 'accuracy', 'val_loss', 'val_accuracy', 'lr'])"
            ]
          },
          "metadata": {},
          "execution_count": 18
        }
      ]
    },
    {
      "cell_type": "code",
      "source": [
        "def visualize_CNN_results(results, y_test=y_test):\n",
        "  \"\"\"\n",
        "  input results of model fitting.\n",
        "  output loss and accuracy curves, and confusion matrix\n",
        "  \"\"\"\n",
        "\n",
        "  history = results.history\n",
        "  plt.figure()\n",
        "  plt.plot(history['loss'])\n",
        "  plt.plot(history['val_loss'])\n",
        "  plt.legend(['loss', 'val_loss'])\n",
        "  plt.title('Loss')\n",
        "  plt.xlabel('Epochs')\n",
        "  plt.ylabel('Loss')\n",
        "  plt.show()\n",
        "\n",
        "  plt.figure()\n",
        "  plt.plot(history['accuracy'])\n",
        "  plt.plot(history['val_accuracy'])\n",
        "  plt.legend(['accuracy', 'val_accuracy'])\n",
        "  plt.title('Accuracy')\n",
        "  plt.xlabel('Epochs')\n",
        "  plt.ylabel('Accuracy')\n",
        "  plt.show()\n",
        "\n",
        "  y_hat_test = results.model.predict(X_test)\n",
        "  thresh = 0.5\n",
        "  y_pred = (y_hat_test < thresh).astype(int)\n",
        "  y_true = y_test.astype(int)\n",
        "  cm = confusion_matrix(y_true, y_pred)\n",
        "  sns.heatmap(cm, annot=True, cmap='Blues', fmt='0.5g')\n",
        "  plt.xlabel('Predictions')\n",
        "  plt.ylabel('Actuals')\n",
        "  plt.title('Model Confusion Matrix')\n",
        "  plt.show()\n",
        "\n"
      ],
      "metadata": {
        "id": "YZOoB0TbvrZ8"
      },
      "execution_count": 19,
      "outputs": []
    },
    {
      "cell_type": "code",
      "source": [
        "visualize_CNN_results(history)"
      ],
      "metadata": {
        "colab": {
          "base_uri": "https://localhost:8080/",
          "height": 1000
        },
        "id": "4L4ePXF5v2r1",
        "outputId": "a6a14a2f-cb00-47ce-cf13-0be590802aa5"
      },
      "execution_count": 20,
      "outputs": [
        {
          "output_type": "display_data",
          "data": {
            "text/plain": [
              "<Figure size 640x480 with 1 Axes>"
            ],
            "image/png": "[encoded data removed]"
          },
          "metadata": {}
        },
        {
          "output_type": "display_data",
          "data": {
            "text/plain": [
              "<Figure size 640x480 with 1 Axes>"
            ],
            "image/png": "[encoded data removed]"
          },
          "metadata": {}
        },
        {
          "output_type": "stream",
          "name": "stdout",
          "text": [
            "20/20 [==============================] - 0s 4ms/step\n"
          ]
        },
        {
          "output_type": "display_data",
          "data": {
            "text/plain": [
              "<Figure size 640x480 with 2 Axes>"
            ],
            "image/png": "[encoded data removed]"
          },
          "metadata": {}
        }
      ]
    },
    {
      "cell_type": "code",
      "source": [],
      "metadata": {
        "id": "DL84zqRq-yZj"
      },
      "execution_count": null,
      "outputs": []
    }
  ]
}